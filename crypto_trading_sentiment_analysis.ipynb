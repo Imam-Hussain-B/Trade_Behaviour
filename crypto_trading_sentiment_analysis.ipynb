{
 "cells": [
  {
   "cell_type": "code",
   "execution_count": 1,
   "id": "578cd1cc-5b42-4670-8782-5dde1056455a",
   "metadata": {},
   "outputs": [],
   "source": [
    "# 📦 Import essential libraries for data analysis and visualization\n",
    "import pandas as pd\n",
    "import numpy as np\n",
    "import seaborn as sns\n",
    "import matplotlib.pyplot as plt"
   ]
  },
  {
   "cell_type": "code",
   "execution_count": 28,
   "id": "44d8d462-9d81-4c6b-971a-ad04ca90ae9c",
   "metadata": {},
   "outputs": [],
   "source": [
    "# Load the historical trader data containing individual trade details\n",
    "hist_df = pd.read_csv('historical_data.csv')\n",
    "\n",
    "# Load the Fear and Greed index data containing market sentiment classifications\n",
    "fg_df = pd.read_csv('fear_greed_index.csv')"
   ]
  },
  {
   "cell_type": "code",
   "execution_count": 3,
   "id": "19be825c-e141-41ae-bbe3-5bd96d90545b",
   "metadata": {},
   "outputs": [
    {
     "data": {
      "text/html": [
       "<div>\n",
       "<style scoped>\n",
       "    .dataframe tbody tr th:only-of-type {\n",
       "        vertical-align: middle;\n",
       "    }\n",
       "\n",
       "    .dataframe tbody tr th {\n",
       "        vertical-align: top;\n",
       "    }\n",
       "\n",
       "    .dataframe thead th {\n",
       "        text-align: right;\n",
       "    }\n",
       "</style>\n",
       "<table border=\"1\" class=\"dataframe\">\n",
       "  <thead>\n",
       "    <tr style=\"text-align: right;\">\n",
       "      <th></th>\n",
       "      <th>Account</th>\n",
       "      <th>Coin</th>\n",
       "      <th>Execution Price</th>\n",
       "      <th>Size Tokens</th>\n",
       "      <th>Size USD</th>\n",
       "      <th>Side</th>\n",
       "      <th>Timestamp IST</th>\n",
       "      <th>Start Position</th>\n",
       "      <th>Direction</th>\n",
       "      <th>Closed PnL</th>\n",
       "      <th>Transaction Hash</th>\n",
       "      <th>Order ID</th>\n",
       "      <th>Crossed</th>\n",
       "      <th>Fee</th>\n",
       "      <th>Trade ID</th>\n",
       "      <th>Timestamp</th>\n",
       "    </tr>\n",
       "  </thead>\n",
       "  <tbody>\n",
       "    <tr>\n",
       "      <th>0</th>\n",
       "      <td>0xae5eacaf9c6b9111fd53034a602c192a04e082ed</td>\n",
       "      <td>@107</td>\n",
       "      <td>7.9769</td>\n",
       "      <td>986.87</td>\n",
       "      <td>7872.16</td>\n",
       "      <td>BUY</td>\n",
       "      <td>02-12-2024 22:50</td>\n",
       "      <td>0.000000</td>\n",
       "      <td>Buy</td>\n",
       "      <td>0.0</td>\n",
       "      <td>0xec09451986a1874e3a980418412fcd0201f500c95bac...</td>\n",
       "      <td>52017706630</td>\n",
       "      <td>True</td>\n",
       "      <td>0.345404</td>\n",
       "      <td>8.950000e+14</td>\n",
       "      <td>1.730000e+12</td>\n",
       "    </tr>\n",
       "    <tr>\n",
       "      <th>1</th>\n",
       "      <td>0xae5eacaf9c6b9111fd53034a602c192a04e082ed</td>\n",
       "      <td>@107</td>\n",
       "      <td>7.9800</td>\n",
       "      <td>16.00</td>\n",
       "      <td>127.68</td>\n",
       "      <td>BUY</td>\n",
       "      <td>02-12-2024 22:50</td>\n",
       "      <td>986.524596</td>\n",
       "      <td>Buy</td>\n",
       "      <td>0.0</td>\n",
       "      <td>0xec09451986a1874e3a980418412fcd0201f500c95bac...</td>\n",
       "      <td>52017706630</td>\n",
       "      <td>True</td>\n",
       "      <td>0.005600</td>\n",
       "      <td>4.430000e+14</td>\n",
       "      <td>1.730000e+12</td>\n",
       "    </tr>\n",
       "    <tr>\n",
       "      <th>2</th>\n",
       "      <td>0xae5eacaf9c6b9111fd53034a602c192a04e082ed</td>\n",
       "      <td>@107</td>\n",
       "      <td>7.9855</td>\n",
       "      <td>144.09</td>\n",
       "      <td>1150.63</td>\n",
       "      <td>BUY</td>\n",
       "      <td>02-12-2024 22:50</td>\n",
       "      <td>1002.518996</td>\n",
       "      <td>Buy</td>\n",
       "      <td>0.0</td>\n",
       "      <td>0xec09451986a1874e3a980418412fcd0201f500c95bac...</td>\n",
       "      <td>52017706630</td>\n",
       "      <td>True</td>\n",
       "      <td>0.050431</td>\n",
       "      <td>6.600000e+14</td>\n",
       "      <td>1.730000e+12</td>\n",
       "    </tr>\n",
       "    <tr>\n",
       "      <th>3</th>\n",
       "      <td>0xae5eacaf9c6b9111fd53034a602c192a04e082ed</td>\n",
       "      <td>@107</td>\n",
       "      <td>7.9874</td>\n",
       "      <td>142.98</td>\n",
       "      <td>1142.04</td>\n",
       "      <td>BUY</td>\n",
       "      <td>02-12-2024 22:50</td>\n",
       "      <td>1146.558564</td>\n",
       "      <td>Buy</td>\n",
       "      <td>0.0</td>\n",
       "      <td>0xec09451986a1874e3a980418412fcd0201f500c95bac...</td>\n",
       "      <td>52017706630</td>\n",
       "      <td>True</td>\n",
       "      <td>0.050043</td>\n",
       "      <td>1.080000e+15</td>\n",
       "      <td>1.730000e+12</td>\n",
       "    </tr>\n",
       "    <tr>\n",
       "      <th>4</th>\n",
       "      <td>0xae5eacaf9c6b9111fd53034a602c192a04e082ed</td>\n",
       "      <td>@107</td>\n",
       "      <td>7.9894</td>\n",
       "      <td>8.73</td>\n",
       "      <td>69.75</td>\n",
       "      <td>BUY</td>\n",
       "      <td>02-12-2024 22:50</td>\n",
       "      <td>1289.488521</td>\n",
       "      <td>Buy</td>\n",
       "      <td>0.0</td>\n",
       "      <td>0xec09451986a1874e3a980418412fcd0201f500c95bac...</td>\n",
       "      <td>52017706630</td>\n",
       "      <td>True</td>\n",
       "      <td>0.003055</td>\n",
       "      <td>1.050000e+15</td>\n",
       "      <td>1.730000e+12</td>\n",
       "    </tr>\n",
       "  </tbody>\n",
       "</table>\n",
       "</div>"
      ],
      "text/plain": [
       "                                      Account  Coin  Execution Price  \\\n",
       "0  0xae5eacaf9c6b9111fd53034a602c192a04e082ed  @107           7.9769   \n",
       "1  0xae5eacaf9c6b9111fd53034a602c192a04e082ed  @107           7.9800   \n",
       "2  0xae5eacaf9c6b9111fd53034a602c192a04e082ed  @107           7.9855   \n",
       "3  0xae5eacaf9c6b9111fd53034a602c192a04e082ed  @107           7.9874   \n",
       "4  0xae5eacaf9c6b9111fd53034a602c192a04e082ed  @107           7.9894   \n",
       "\n",
       "   Size Tokens  Size USD Side     Timestamp IST  Start Position Direction  \\\n",
       "0       986.87   7872.16  BUY  02-12-2024 22:50        0.000000       Buy   \n",
       "1        16.00    127.68  BUY  02-12-2024 22:50      986.524596       Buy   \n",
       "2       144.09   1150.63  BUY  02-12-2024 22:50     1002.518996       Buy   \n",
       "3       142.98   1142.04  BUY  02-12-2024 22:50     1146.558564       Buy   \n",
       "4         8.73     69.75  BUY  02-12-2024 22:50     1289.488521       Buy   \n",
       "\n",
       "   Closed PnL                                   Transaction Hash     Order ID  \\\n",
       "0         0.0  0xec09451986a1874e3a980418412fcd0201f500c95bac...  52017706630   \n",
       "1         0.0  0xec09451986a1874e3a980418412fcd0201f500c95bac...  52017706630   \n",
       "2         0.0  0xec09451986a1874e3a980418412fcd0201f500c95bac...  52017706630   \n",
       "3         0.0  0xec09451986a1874e3a980418412fcd0201f500c95bac...  52017706630   \n",
       "4         0.0  0xec09451986a1874e3a980418412fcd0201f500c95bac...  52017706630   \n",
       "\n",
       "   Crossed       Fee      Trade ID     Timestamp  \n",
       "0     True  0.345404  8.950000e+14  1.730000e+12  \n",
       "1     True  0.005600  4.430000e+14  1.730000e+12  \n",
       "2     True  0.050431  6.600000e+14  1.730000e+12  \n",
       "3     True  0.050043  1.080000e+15  1.730000e+12  \n",
       "4     True  0.003055  1.050000e+15  1.730000e+12  "
      ]
     },
     "execution_count": 3,
     "metadata": {},
     "output_type": "execute_result"
    }
   ],
   "source": [
    "# 👀 Preview the first 5 rows of the historical trader dataset\n",
    "hist_df.head(5)\n",
    "\n",
    "# 👀 Preview the first 5 rows of the market sentiment classifications\n",
    "fg_df.head("
   ]
  },
  {
   "cell_type": "code",
   "execution_count": 4,
   "id": "b8889074-ff32-4166-b778-6a8683de9872",
   "metadata": {},
   "outputs": [
    {
     "data": {
      "text/html": [
       "<div>\n",
       "<style scoped>\n",
       "    .dataframe tbody tr th:only-of-type {\n",
       "        vertical-align: middle;\n",
       "    }\n",
       "\n",
       "    .dataframe tbody tr th {\n",
       "        vertical-align: top;\n",
       "    }\n",
       "\n",
       "    .dataframe thead th {\n",
       "        text-align: right;\n",
       "    }\n",
       "</style>\n",
       "<table border=\"1\" class=\"dataframe\">\n",
       "  <thead>\n",
       "    <tr style=\"text-align: right;\">\n",
       "      <th></th>\n",
       "      <th>timestamp</th>\n",
       "      <th>value</th>\n",
       "      <th>classification</th>\n",
       "      <th>date</th>\n",
       "    </tr>\n",
       "  </thead>\n",
       "  <tbody>\n",
       "    <tr>\n",
       "      <th>0</th>\n",
       "      <td>1517463000</td>\n",
       "      <td>30</td>\n",
       "      <td>Fear</td>\n",
       "      <td>2018-02-01</td>\n",
       "    </tr>\n",
       "    <tr>\n",
       "      <th>1</th>\n",
       "      <td>1517549400</td>\n",
       "      <td>15</td>\n",
       "      <td>Extreme Fear</td>\n",
       "      <td>2018-02-02</td>\n",
       "    </tr>\n",
       "    <tr>\n",
       "      <th>2</th>\n",
       "      <td>1517635800</td>\n",
       "      <td>40</td>\n",
       "      <td>Fear</td>\n",
       "      <td>2018-02-03</td>\n",
       "    </tr>\n",
       "    <tr>\n",
       "      <th>3</th>\n",
       "      <td>1517722200</td>\n",
       "      <td>24</td>\n",
       "      <td>Extreme Fear</td>\n",
       "      <td>2018-02-04</td>\n",
       "    </tr>\n",
       "    <tr>\n",
       "      <th>4</th>\n",
       "      <td>1517808600</td>\n",
       "      <td>11</td>\n",
       "      <td>Extreme Fear</td>\n",
       "      <td>2018-02-05</td>\n",
       "    </tr>\n",
       "  </tbody>\n",
       "</table>\n",
       "</div>"
      ],
      "text/plain": [
       "    timestamp  value classification        date\n",
       "0  1517463000     30           Fear  2018-02-01\n",
       "1  1517549400     15   Extreme Fear  2018-02-02\n",
       "2  1517635800     40           Fear  2018-02-03\n",
       "3  1517722200     24   Extreme Fear  2018-02-04\n",
       "4  1517808600     11   Extreme Fear  2018-02-05"
      ]
     },
     "execution_count": 4,
     "metadata": {},
     "output_type": "execute_result"
    }
   ],
   "source": []
  },
  {
   "cell_type": "code",
   "execution_count": 31,
   "id": "e437c147-3e5a-49df-aba0-26525fdde679",
   "metadata": {},
   "outputs": [
    {
     "name": "stdout",
     "output_type": "stream",
     "text": [
      "<class 'pandas.core.frame.DataFrame'>\n",
      "RangeIndex: 211224 entries, 0 to 211223\n",
      "Data columns (total 16 columns):\n",
      " #   Column            Non-Null Count   Dtype  \n",
      "---  ------            --------------   -----  \n",
      " 0   Account           211224 non-null  object \n",
      " 1   Coin              211224 non-null  object \n",
      " 2   Execution Price   211224 non-null  float64\n",
      " 3   Size Tokens       211224 non-null  float64\n",
      " 4   Size USD          211224 non-null  float64\n",
      " 5   Side              211224 non-null  object \n",
      " 6   Timestamp IST     211224 non-null  object \n",
      " 7   Start Position    211224 non-null  float64\n",
      " 8   Direction         211224 non-null  object \n",
      " 9   Closed PnL        211224 non-null  float64\n",
      " 10  Transaction Hash  211224 non-null  object \n",
      " 11  Order ID          211224 non-null  int64  \n",
      " 12  Crossed           211224 non-null  bool   \n",
      " 13  Fee               211224 non-null  float64\n",
      " 14  Trade ID          211224 non-null  float64\n",
      " 15  Timestamp         211224 non-null  float64\n",
      "dtypes: bool(1), float64(8), int64(1), object(6)\n",
      "memory usage: 24.4+ MB\n",
      "<class 'pandas.core.frame.DataFrame'>\n",
      "RangeIndex: 2644 entries, 0 to 2643\n",
      "Data columns (total 4 columns):\n",
      " #   Column          Non-Null Count  Dtype \n",
      "---  ------          --------------  ----- \n",
      " 0   timestamp       2644 non-null   int64 \n",
      " 1   value           2644 non-null   int64 \n",
      " 2   classification  2644 non-null   object\n",
      " 3   date            2644 non-null   object\n",
      "dtypes: int64(2), object(2)\n",
      "memory usage: 82.8+ KB\n"
     ]
    }
   ],
   "source": [
    "# Check data types and nulls\n",
    "hist_df.info()\n",
    "fg_df.info()"
   ]
  },
  {
   "cell_type": "code",
   "execution_count": 34,
   "id": "527f1248-4d43-4f0a-ac91-27e1b9d5abc2",
   "metadata": {},
   "outputs": [
    {
     "data": {
      "text/plain": [
       "Account              object\n",
       "Coin                 object\n",
       "Execution Price     float64\n",
       "Size Tokens         float64\n",
       "Size USD            float64\n",
       "Side                 object\n",
       "Timestamp IST        object\n",
       "Start Position      float64\n",
       "Direction            object\n",
       "Closed PnL          float64\n",
       "Transaction Hash     object\n",
       "Order ID              int64\n",
       "Crossed                bool\n",
       "Fee                 float64\n",
       "Trade ID            float64\n",
       "Timestamp           float64\n",
       "dtype: object"
      ]
     },
     "execution_count": 34,
     "metadata": {},
     "output_type": "execute_result"
    }
   ],
   "source": [
    "# 🔍 Check the data types of each column in the historical trader dataset\n",
    "hist_df.dtypes"
   ]
  },
  {
   "cell_type": "code",
   "execution_count": 33,
   "id": "e91d1ad5-e304-45c5-80fa-e56a3124d078",
   "metadata": {},
   "outputs": [
    {
     "data": {
      "text/plain": [
       "timestamp          int64\n",
       "value              int64\n",
       "classification    object\n",
       "date              object\n",
       "dtype: object"
      ]
     },
     "execution_count": 33,
     "metadata": {},
     "output_type": "execute_result"
    }
   ],
   "source": [
    "# 🔍 Check the data types of each column \n",
    "fg_df.dtypes"
   ]
  },
  {
   "cell_type": "code",
   "execution_count": 35,
   "id": "8b042402-16d8-4da3-a0c0-1665c8d592c9",
   "metadata": {},
   "outputs": [],
   "source": [
    "# 🗓️ Convert 'Timestamp IST' column in historical data to proper datetime format\n",
    "hist_df['Timestamp IST'] = pd.to_datetime(hist_df['Timestamp IST'], errors='coerce')\n",
    "\n",
    "# 🗓️ Convert 'date' column in Fear & Greed data to datetime format\n",
    "fg_df['date'] = pd.to_datetime(fg_df['date'], errors='coerce')\n"
   ]
  },
  {
   "cell_type": "code",
   "execution_count": 8,
   "id": "76b6269d-0ef5-4aea-a33f-4a01acd5ec41",
   "metadata": {},
   "outputs": [],
   "source": [
    "# Extract only Date from given column\n",
    "\n",
    "hist_df['Trade Date'] = hist_df['Timestamp IST'].dt.date\n",
    "fg_df['Sentiment Date'] = fg_df['date'].dt.date"
   ]
  },
  {
   "cell_type": "code",
   "execution_count": 9,
   "id": "d49cef8e-45f2-4fa1-8bbf-35e785eeb1c3",
   "metadata": {},
   "outputs": [
    {
     "name": "stdout",
     "output_type": "stream",
     "text": [
      "Account                  0\n",
      "Coin                     0\n",
      "Execution Price          0\n",
      "Size Tokens              0\n",
      "Size USD                 0\n",
      "Side                     0\n",
      "Timestamp IST       131999\n",
      "Start Position           0\n",
      "Direction                0\n",
      "Closed PnL               0\n",
      "Transaction Hash         0\n",
      "Order ID                 0\n",
      "Crossed                  0\n",
      "Fee                      0\n",
      "Trade ID                 0\n",
      "Timestamp                0\n",
      "Trade Date          131999\n",
      "dtype: int64\n",
      "timestamp         0\n",
      "value             0\n",
      "classification    0\n",
      "date              0\n",
      "Sentiment Date    0\n",
      "dtype: int64\n"
     ]
    }
   ],
   "source": [
    "# Show total missing values per column\n",
    "print(hist_df.isnull().sum())\n",
    "print(fg_df.isnull().sum())"
   ]
  },
  {
   "cell_type": "code",
   "execution_count": 10,
   "id": "f8967d83-a872-4400-8f1e-bcc8ea553693",
   "metadata": {},
   "outputs": [],
   "source": [
    "# Drop the missing value \n",
    "\n",
    "hist_df = hist_df.dropna(subset=['Timestamp IST'])\n",
    "fg_df = fg_df.dropna(subset=['date', 'classification'])"
   ]
  },
  {
   "cell_type": "code",
   "execution_count": 12,
   "id": "ba82e4ff-3efa-4536-b272-4fc8eaff2224",
   "metadata": {},
   "outputs": [],
   "source": [
    "# ✂️ Select only the important columns needed for analysis and merging\n",
    "\n",
    "# From the historical trader data:\n",
    "# Keep account info, coin traded, timestamp, profit/loss, trade direction, trade size, and trade date\n",
    "hist_trimmed = hist_df[['Account', 'Coin', 'Timestamp IST', 'Closed PnL', 'Side', 'Size USD', 'Trade Date']]\n",
    "\n",
    "# From the Fear & Greed data:\n",
    "# Keep the sentiment date and the classification (e.g., Fear, Greed)\n",
    "fg_trimmed = fg_df[['Sentiment Date', 'classification']]\n"
   ]
  },
  {
   "cell_type": "code",
   "execution_count": 13,
   "id": "b8ebca63-17ac-4b09-8b72-85ae37e7881c",
   "metadata": {},
   "outputs": [],
   "source": [
    "# 🔗 Merge the historical trade data with the sentiment data on the date fields\n",
    "merged_df = pd.merge(\n",
    "    hist_trimmed,\n",
    "    fg_trimmed,\n",
    "    left_on='Trade Date',\n",
    "    right_on='Sentiment Date',\n",
    "    how='left'  # keeps all trades\n",
    ")\n",
    "\n",
    "# Remove the column after merging\n",
    "merged_df.drop(columns=['Sentiment Date'], inplace=True)"
   ]
  },
  {
   "cell_type": "code",
   "execution_count": 14,
   "id": "03799261-c943-4367-afe6-e9bc22e53237",
   "metadata": {},
   "outputs": [
    {
     "data": {
      "text/html": [
       "<div>\n",
       "<style scoped>\n",
       "    .dataframe tbody tr th:only-of-type {\n",
       "        vertical-align: middle;\n",
       "    }\n",
       "\n",
       "    .dataframe tbody tr th {\n",
       "        vertical-align: top;\n",
       "    }\n",
       "\n",
       "    .dataframe thead th {\n",
       "        text-align: right;\n",
       "    }\n",
       "</style>\n",
       "<table border=\"1\" class=\"dataframe\">\n",
       "  <thead>\n",
       "    <tr style=\"text-align: right;\">\n",
       "      <th></th>\n",
       "      <th>Account</th>\n",
       "      <th>Coin</th>\n",
       "      <th>Timestamp IST</th>\n",
       "      <th>Closed PnL</th>\n",
       "      <th>Side</th>\n",
       "      <th>Size USD</th>\n",
       "      <th>Trade Date</th>\n",
       "      <th>classification</th>\n",
       "    </tr>\n",
       "  </thead>\n",
       "  <tbody>\n",
       "    <tr>\n",
       "      <th>0</th>\n",
       "      <td>0xae5eacaf9c6b9111fd53034a602c192a04e082ed</td>\n",
       "      <td>@107</td>\n",
       "      <td>2024-02-12 22:50:00</td>\n",
       "      <td>0.0</td>\n",
       "      <td>BUY</td>\n",
       "      <td>7872.16</td>\n",
       "      <td>2024-02-12</td>\n",
       "      <td>Greed</td>\n",
       "    </tr>\n",
       "    <tr>\n",
       "      <th>1</th>\n",
       "      <td>0xae5eacaf9c6b9111fd53034a602c192a04e082ed</td>\n",
       "      <td>@107</td>\n",
       "      <td>2024-02-12 22:50:00</td>\n",
       "      <td>0.0</td>\n",
       "      <td>BUY</td>\n",
       "      <td>127.68</td>\n",
       "      <td>2024-02-12</td>\n",
       "      <td>Greed</td>\n",
       "    </tr>\n",
       "    <tr>\n",
       "      <th>2</th>\n",
       "      <td>0xae5eacaf9c6b9111fd53034a602c192a04e082ed</td>\n",
       "      <td>@107</td>\n",
       "      <td>2024-02-12 22:50:00</td>\n",
       "      <td>0.0</td>\n",
       "      <td>BUY</td>\n",
       "      <td>1150.63</td>\n",
       "      <td>2024-02-12</td>\n",
       "      <td>Greed</td>\n",
       "    </tr>\n",
       "    <tr>\n",
       "      <th>3</th>\n",
       "      <td>0xae5eacaf9c6b9111fd53034a602c192a04e082ed</td>\n",
       "      <td>@107</td>\n",
       "      <td>2024-02-12 22:50:00</td>\n",
       "      <td>0.0</td>\n",
       "      <td>BUY</td>\n",
       "      <td>1142.04</td>\n",
       "      <td>2024-02-12</td>\n",
       "      <td>Greed</td>\n",
       "    </tr>\n",
       "    <tr>\n",
       "      <th>4</th>\n",
       "      <td>0xae5eacaf9c6b9111fd53034a602c192a04e082ed</td>\n",
       "      <td>@107</td>\n",
       "      <td>2024-02-12 22:50:00</td>\n",
       "      <td>0.0</td>\n",
       "      <td>BUY</td>\n",
       "      <td>69.75</td>\n",
       "      <td>2024-02-12</td>\n",
       "      <td>Greed</td>\n",
       "    </tr>\n",
       "  </tbody>\n",
       "</table>\n",
       "</div>"
      ],
      "text/plain": [
       "                                      Account  Coin       Timestamp IST  \\\n",
       "0  0xae5eacaf9c6b9111fd53034a602c192a04e082ed  @107 2024-02-12 22:50:00   \n",
       "1  0xae5eacaf9c6b9111fd53034a602c192a04e082ed  @107 2024-02-12 22:50:00   \n",
       "2  0xae5eacaf9c6b9111fd53034a602c192a04e082ed  @107 2024-02-12 22:50:00   \n",
       "3  0xae5eacaf9c6b9111fd53034a602c192a04e082ed  @107 2024-02-12 22:50:00   \n",
       "4  0xae5eacaf9c6b9111fd53034a602c192a04e082ed  @107 2024-02-12 22:50:00   \n",
       "\n",
       "   Closed PnL Side  Size USD  Trade Date classification  \n",
       "0         0.0  BUY   7872.16  2024-02-12          Greed  \n",
       "1         0.0  BUY    127.68  2024-02-12          Greed  \n",
       "2         0.0  BUY   1150.63  2024-02-12          Greed  \n",
       "3         0.0  BUY   1142.04  2024-02-12          Greed  \n",
       "4         0.0  BUY     69.75  2024-02-12          Greed  "
      ]
     },
     "execution_count": 14,
     "metadata": {},
     "output_type": "execute_result"
    }
   ],
   "source": [
    "# First 5 rows of merged dataframe \n",
    "merged_df.head(5)"
   ]
  },
  {
   "cell_type": "code",
   "execution_count": 36,
   "id": "af4ed1f0-6dd0-4903-9764-d8bad0ef6f56",
   "metadata": {},
   "outputs": [
    {
     "data": {
      "text/plain": [
       "classification\n",
       "Fear             13869\n",
       "Greed            11292\n",
       "Extreme Greed     5621\n",
       "Neutral           2756\n",
       "Extreme Fear      2326\n",
       "Name: count, dtype: int64"
      ]
     },
     "execution_count": 36,
     "metadata": {},
     "output_type": "execute_result"
    }
   ],
   "source": [
    "# 📊 Count the number of trades under each market sentiment classification\n",
    "merged_df['classification'].value_counts()\n"
   ]
  },
  {
   "cell_type": "code",
   "execution_count": 16,
   "id": "a6d0ad67-2a87-4697-87f5-97ab361da5ca",
   "metadata": {},
   "outputs": [
    {
     "data": {
      "text/plain": [
       "classification\n",
       "Extreme Fear       1.891632\n",
       "Extreme Greed    205.816345\n",
       "Fear             128.287950\n",
       "Greed             53.988003\n",
       "Neutral           27.088803\n",
       "Name: Closed PnL, dtype: float64"
      ]
     },
     "execution_count": 16,
     "metadata": {},
     "output_type": "execute_result"
    }
   ],
   "source": [
    "merged_df.groupby('classification')['Closed PnL'].mean()"
   ]
  },
  {
   "cell_type": "markdown",
   "id": "72912892-9ff7-41e7-85c5-b2d25089ebec",
   "metadata": {},
   "source": [
    "## 1. Trader Performance and Sentiment\n",
    "\n",
    "- Highest Profit in Extreme Greed\n",
    "💡 Trades executed during Extreme Greed resulted in the highest average profit (+205.82 USD). This suggests that highly optimistic market conditions create strong trading opportunities, possibly due to strong momentum and trend continuation.\n",
    "\n",
    "- Positive PnL Even During Fear\n",
    "💡 Surprisingly, Fear days showed a relatively high average profit (+128.29 USD), even outperforming Greed (+53.99 USD). This may indicate that skilled traders take advantage of market dips or volatility.\n",
    "\n",
    "- Neutral Sentiment = Lower Opportunity\n",
    "💡 During Neutral sentiment, average PnL drops to only +27.09 USD, suggesting fewer directional moves and more sideways market activity, which could reduce trade profitability.\n",
    "\n",
    "- Extreme Fear Leads to Lowest Profits\n",
    "💡 While still slightly positive, Extreme Fear trades had the lowest average profit (+1.89 USD). Traders may be highly risk-averse in this condition or stop losses might be tighter, leading to minimal gains."
   ]
  },
  {
   "cell_type": "code",
   "execution_count": 17,
   "id": "149ab1ef-0a31-4bbe-8e1d-535bd8ba2ff3",
   "metadata": {},
   "outputs": [
    {
     "data": {
      "text/plain": [
       "classification\n",
       "Extreme Fear     4118.761840\n",
       "Extreme Greed    3242.085086\n",
       "Fear             5744.782685\n",
       "Greed            5051.878829\n",
       "Neutral          4332.202906\n",
       "Name: Size USD, dtype: float64"
      ]
     },
     "execution_count": 17,
     "metadata": {},
     "output_type": "execute_result"
    }
   ],
   "source": [
    "merged_df.groupby('classification')['Size USD'].mean()\n"
   ]
  },
  {
   "cell_type": "markdown",
   "id": "48281bb3-21c2-4d8e-a373-f0add78e0128",
   "metadata": {},
   "source": [
    "##  2. Trade Volume and Behavior\n",
    "📌 1. Highest Risk Taken During Fear\n",
    "💡 Average trade size peaks during Fear ($5744.78), which is surprising — it suggests traders are willing to risk larger capital when the market is showing signs of uncertainty or minor panic.\n",
    "\n",
    "📌 2. Risk Reduces as Sentiment Becomes More Extreme\n",
    "💡 In both Extreme Fear ($4118.76) and Extreme Greed ($3242.09), trade sizes shrink, implying that traders may either scale back risk or take quick profits in highly volatile emotional environments.\n",
    "\n",
    "📌 3. Moderate Greed > Extreme Greed in Trade Size\n",
    "💡 Interestingly, average trade size during regular Greed ($5051.88) is much higher than in Extreme Greed, which may indicate that traders become more cautious at market tops or after big runs.\n",
    "\n",
    "📌 4. Neutral = Balanced Exposure\n",
    "💡 In Neutral conditions, the average size is in the mid-range ($4332.20), which makes sense — there's no strong bias or pressure, so traders neither over- nor under-commit."
   ]
  },
  {
   "cell_type": "code",
   "execution_count": 18,
   "id": "5fd608f6-698c-4cde-884f-206e1248dfc0",
   "metadata": {},
   "outputs": [
    {
     "data": {
      "image/png": "[encoded data removed]",
      "text/plain": [
       "<Figure size 1200x700 with 1 Axes>"
      ]
     },
     "metadata": {},
     "output_type": "display_data"
    }
   ],
   "source": [
    "plt.figure(figsize=(12, 7))\n",
    "ax = sns.countplot(data=merged_df, x='Side', hue='classification')\n",
    "\n",
    "# Title\n",
    "plt.title('Buy/Sell Trades During Fear vs Greed')\n",
    "\n",
    "# Add data labels on each bar\n",
    "for p in ax.patches:\n",
    "    height = p.get_height()\n",
    "    if height > 0:  # skip empty bars\n",
    "        ax.annotate(f'{int(height)}', \n",
    "                    (p.get_x() + p.get_width() / 2., height), \n",
    "                    ha='center', va='bottom', fontsize=10, color='black')\n",
    "\n",
    "plt.show()"
   ]
  },
  {
   "cell_type": "markdown",
   "id": "d2a88916-d78c-4e72-9fec-58fd6dc9475f",
   "metadata": {},
   "source": [
    "## 3. Buy Vs Sell\n",
    "- Greed and Extreme Greed:\n",
    "These classifications show a wide distribution of Closed PnL, with the median PnL for both appearing to be around zero or slightly positive. There are also notable outliers, especially in the \"Greed\" category, indicating instances of significant positive PnL.\n",
    "- Fear and Extreme Fear:\n",
    "These classifications tend to be associated with negative Closed PnL, as indicated by the lower position of their box plots on the y-axis. The median PnL for \"Fear\" and \"Extreme Fear\" is clearly negative, suggesting that fear-driven decisions often lead to losses."
   ]
  },
  {
   "cell_type": "code",
   "execution_count": 19,
   "id": "67e94f80-5a1a-4a97-b319-ea9e2c4a099c",
   "metadata": {},
   "outputs": [
    {
     "data": {
      "text/plain": [
       "Coin   classification\n",
       "@1     Fear               8.664499\n",
       "       Greed            -47.982752\n",
       "@10    Fear               0.000000\n",
       "       Greed             -0.031742\n",
       "@103   Greed              4.985462\n",
       "                           ...    \n",
       "kPEPE  Greed             74.777789\n",
       "       Neutral           87.187667\n",
       "kSHIB  Extreme Greed     -3.982488\n",
       "       Fear               0.000000\n",
       "       Greed              0.000000\n",
       "Name: Closed PnL, Length: 462, dtype: float64"
      ]
     },
     "execution_count": 19,
     "metadata": {},
     "output_type": "execute_result"
    }
   ],
   "source": [
    "merged_df.groupby(['Coin', 'classification'])['Closed PnL'].mean()\n"
   ]
  },
  {
   "cell_type": "markdown",
   "id": "b1e15ce1-2d1e-41b7-aa22-58766d7fe3ee",
   "metadata": {},
   "source": [
    "## 4. Coin-Specific Behavior\n",
    "📌 1. Coin Performance Varies Significantly by Sentiment\n",
    "💡 Some coins (like @1) have positive PnL under Fear but lose money under Greed — this suggests their price movements may behave contrarian to sentiment.\n",
    "\n",
    "📌 2. Certain Coins Perform Best Under Neutral/Greed\n",
    "💡 Coins like kPEPE and kSHIB showed higher average profits during Neutral or Greed, which may make them suitable for sentiment-driven trend trading strategies.\n",
    "\n",
    "📌 3. Some Coins Show Zero or Minimal Trading in Certain Moods\n",
    "💡 For example, @10 has 0.0 PnL in Fear, suggesting no trading or no PnL change — this helps identify coins not actively traded under specific market sentiments.\n",
    "\n",
    "📌 4. Extreme Sentiment Can Lead to Negative Outcomes\n",
    "💡 Some coins under Extreme Greed (like kSHIB: -3.98 USD) actually produce losses. This may be due to overbought conditions, suggesting a reversal or high volatility risk."
   ]
  },
  {
   "cell_type": "code",
   "execution_count": 26,
   "id": "15a8d05a-e09b-4c3c-af6d-f7d1788c8368",
   "metadata": {},
   "outputs": [
    {
     "data": {
      "image/png": "[encoded data removed]",
      "text/plain": [
       "<Figure size 640x480 with 1 Axes>"
      ]
     },
     "metadata": {},
     "output_type": "display_data"
    }
   ],
   "source": [
    "\n",
    "sns.boxplot(x='classification', y='Closed PnL', data=merged_df)\n",
    "plt.yscale('log')  \n",
    "plt.title('Closed PnL Distribution (Log Scale)')\n",
    "plt.show()\n"
   ]
  },
  {
   "cell_type": "markdown",
   "id": "f65807c1-d083-4e11-b772-5c2071930ab4",
   "metadata": {},
   "source": [
    "## 5. Risk Insight\n",
    "- Median PnL:\n",
    "The line inside each box represents the median Closed PnL for that classification. Comparing these lines reveals how the typical PnL differs across sentiment categories.\n",
    "- Interquartile Range (IQR)(Q3 - Q1):\n",
    "The box itself represents the IQR, spanning from the 25th to the 75th percentile of Closed PnL. A wider box indicates greater variability in PnL within that classification.\n",
    "- Outliers:\n",
    "Individual points beyond the whiskers indicate outliers, representing unusually high or low Closed PnL values for a given sentiment category.\n",
    "- Skewness:\n",
    "The position of the median within the box and the length of the whiskers can suggest the skewness of the PnL distribution for each classification. For example, a median closer to the bottom of the box with a longer upper whisker suggests a positive skew."
   ]
  },
  {
   "cell_type": "markdown",
   "id": "80812b29-be5e-45b9-b254-5fe996652d7c",
   "metadata": {},
   "source": [
    "## 6. Conclusion\n",
    "Market sentiment has a measurable influence on trader behavior and performance. By integrating sentiment into trading decisions—especially when choosing coins or managing trade size—traders can align with market psychology and potentially improve returns while managing risk."
   ]
  },
  {
   "cell_type": "code",
   "execution_count": null,
   "id": "bcf9483a-1b3c-40df-af6d-16346081ec12",
   "metadata": {},
   "outputs": [],
   "source": []
  }
 ],
 "metadata": {
  "kernelspec": {
   "display_name": "Python 3 (ipykernel)",
   "language": "python",
   "name": "python3"
  },
  "language_info": {
   "codemirror_mode": {
    "name": "ipython",
    "version": 3
   },
   "file_extension": ".py",
   "mimetype": "text/x-python",
   "name": "python",
   "nbconvert_exporter": "python",
   "pygments_lexer": "ipython3",
   "version": "3.12.3"
  }
 },
 "nbformat": 4,
 "nbformat_minor": 5
}
